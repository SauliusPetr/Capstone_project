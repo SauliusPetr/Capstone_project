{
 "cells": [
  {
   "cell_type": "code",
   "execution_count": null,
   "id": "ecbc155b",
   "metadata": {},
   "outputs": [],
   "source": [
    "####\n",
    "#\n",
    "# Majority of the code is sampled from https://scikit-learn.org/stable/modules/cross_validation.html \n",
    "# it gives a lot of examples and so everything was taken from here. Code taken from other sources will be acknowledged next\n",
    "# to the code snipets. The part where I was doing code on my own was image augmentation, choosing what hyper-parameters\n",
    "# value to pick.\n",
    "#\n",
    "###"
   ]
  },
  {
   "cell_type": "code",
   "execution_count": 5,
   "id": "3f0daf74",
   "metadata": {},
   "outputs": [],
   "source": [
    "import numpy as np\n",
    "import matplotlib.pyplot as plt\n",
    "import xgboost as xgb\n",
    "import cv2 as cv\n",
    "from xgboost import XGBClassifier\n",
    "from sklearn.metrics import roc_curve, auc, classification_report, confusion_matrix, plot_roc_curve, accuracy_score\n",
    "from sklearn.preprocessing import label_binarize\n",
    "from sklearn.model_selection import cross_val_score, KFold, RandomizedSearchCV\n",
    "from skimage.feature import hog\n",
    "import os"
   ]
  },
  {
   "cell_type": "code",
   "execution_count": 45,
   "id": "c06a90a9",
   "metadata": {},
   "outputs": [],
   "source": [
    "####\n",
    "#\n",
    "# Specifying the paths of the datasets and the labels.\n",
    "#\n",
    "####\n",
    "\n",
    "path_train = os.listdir(\"./nih-malaria/cell_images/train/\")\n",
    "path_val = os.listdir(\"./nih-malaria/cell_images/val/\")\n",
    "path_test = os.listdir(\"./nih-malaria/cell_images/test/\")\n",
    "\n",
    "classes = {'parasitized':0,'uninfected':1}"
   ]
  },
  {
   "cell_type": "code",
   "execution_count": 47,
   "id": "62642a0f",
   "metadata": {},
   "outputs": [
    {
     "name": "stderr",
     "output_type": "stream",
     "text": [
      "C:\\Users\\petru\\AppData\\Local\\Temp\\ipykernel_13768\\2114591484.py:31: FutureWarning: `multichannel` is a deprecated argument name for `hog`. It will be removed in version 1.0. Please use `channel_axis` instead.\n",
      "  fd, hog_image = hog(img, orientations=9, pixels_per_cell=(8,8),\n",
      "C:\\Users\\petru\\AppData\\Local\\Temp\\ipykernel_13768\\2114591484.py:38: FutureWarning: `multichannel` is a deprecated argument name for `hog`. It will be removed in version 1.0. Please use `channel_axis` instead.\n",
      "  fd, hog_image = hog(imgrot, orientations=9, pixels_per_cell=(8,8),\n"
     ]
    },
    {
     "name": "stdout",
     "output_type": "stream",
     "text": [
      "x_train:  44092\n"
     ]
    },
    {
     "name": "stderr",
     "output_type": "stream",
     "text": [
      "C:\\Users\\petru\\AppData\\Local\\Temp\\ipykernel_13768\\2114591484.py:62: FutureWarning: `multichannel` is a deprecated argument name for `hog`. It will be removed in version 1.0. Please use `channel_axis` instead.\n",
      "  fd, hog_image = hog(img, orientations=9, pixels_per_cell=(8,8),\n"
     ]
    },
    {
     "name": "stdout",
     "output_type": "stream",
     "text": [
      "x_test:  2758\n"
     ]
    },
    {
     "name": "stderr",
     "output_type": "stream",
     "text": [
      "C:\\Users\\petru\\AppData\\Local\\Temp\\ipykernel_13768\\2114591484.py:75: FutureWarning: `multichannel` is a deprecated argument name for `hog`. It will be removed in version 1.0. Please use `channel_axis` instead.\n",
      "  fd, hog_image = hog(img, orientations=9, pixels_per_cell=(8,8),\n"
     ]
    },
    {
     "name": "stdout",
     "output_type": "stream",
     "text": [
      "x_val:  2754\n"
     ]
    }
   ],
   "source": [
    "####\n",
    "#\n",
    "# Create lists that will contain 1-D flattened images. \n",
    "#\n",
    "####\n",
    "\n",
    "x_train=[]\n",
    "x_test = []\n",
    "x_val = []\n",
    "y_train = []\n",
    "y_test = []\n",
    "y_val = []\n",
    "\n",
    "\n",
    "####\n",
    "# \n",
    "# Training data\n",
    "#\n",
    "# Loading each image from the directory resizing images, applying augmentation(grayscale, rotations and using HOG),\n",
    "# Appending the augmented images into a list containing the flattened images and appending a label of the images into separate\n",
    "# array. \n",
    "# Printing out the number of images loaded\n",
    "#\n",
    "####\n",
    "\n",
    "for cls in classes:\n",
    "    path_train = './nih-malaria/cell_images/train/'+cls\n",
    "    for file in os.listdir(path_train):\n",
    "        img = cv.imread(path_train+'/'+file)\n",
    "        img = cv.resize(img, (64,128), interpolation = cv.INTER_AREA)\n",
    "        fd, hog_image = hog(img, orientations=9, pixels_per_cell=(8,8),\n",
    "                            cells_per_block=(2, 2), visualize=True, multichannel=True)\n",
    "        imgToArr = hog_image.flatten();\n",
    "        x_train.append(imgToArr)\n",
    "        y_train.append(classes[cls])\n",
    "        \n",
    "        imgrot = cv.rotate(img,cv.ROTATE_180)\n",
    "        fd, hog_image = hog(imgrot, orientations=9, pixels_per_cell=(8,8),\n",
    "                            cells_per_block=(2, 2), visualize=True, multichannel=True)\n",
    "        imgToArr = hog_image.flatten();\n",
    "        x_train.append(imgToArr)\n",
    "        y_train.append(classes[cls])\n",
    "\n",
    "        \n",
    "print(\"x_train: \",len(x_train))\n",
    "        \n",
    "        \n",
    "####\n",
    "#\n",
    "# Testing data\n",
    "#\n",
    "# Resizing each image, converting to grayscale and flattening image and appending to list and a label to another list\n",
    "# Printing out the total image count\n",
    "#\n",
    "####\n",
    "\n",
    "for cls in classes:\n",
    "    path_test = './nih-malaria/cell_images/test/'+cls\n",
    "    for file in os.listdir(path_test):\n",
    "        img = cv.imread(path_test+'/'+file)\n",
    "        img = cv.resize(img, (64,128), interpolation = cv.INTER_AREA)\n",
    "        fd, hog_image = hog(img, orientations=9, pixels_per_cell=(8,8),\n",
    "                            cells_per_block=(2, 2), visualize=True, multichannel=True)\n",
    "        imgToArr = hog_image.flatten();\n",
    "        x_test.append(imgToArr)\n",
    "        y_test.append(classes[cls])\n",
    "    \n",
    "print(\"x_test: \",len(x_test))\n",
    "\n",
    "for cls in classes:\n",
    "    path_val = './nih-malaria/cell_images/val/'+cls\n",
    "    for file in os.listdir(path_val):\n",
    "        img = cv.imread(path_val+'/'+file)\n",
    "        img = cv.resize(img,(64,128), interpolation = cv.INTER_AREA)\n",
    "        fd, hog_image = hog(img, orientations=9, pixels_per_cell=(8,8),\n",
    "                            cells_per_block=(2, 2), visualize=True, multichannel=True)\n",
    "        imgToArr = hog_image.flatten();\n",
    "        x_val.append(imgToArr)\n",
    "        y_val.append(classes[cls])\n",
    "        \n",
    "print(\"x_val: \",len(x_val))"
   ]
  },
  {
   "cell_type": "code",
   "execution_count": 48,
   "id": "9fdb5b41",
   "metadata": {},
   "outputs": [
    {
     "name": "stdout",
     "output_type": "stream",
     "text": [
      "0\n"
     ]
    },
    {
     "data": {
      "image/png": "[encoded data removed]",
      "text/plain": [
       "<Figure size 432x288 with 1 Axes>"
      ]
     },
     "metadata": {
      "needs_background": "light"
     },
     "output_type": "display_data"
    }
   ],
   "source": [
    "####\n",
    "#\n",
    "# Checking if the images are loaded and augmented by reshaping the image.\n",
    "#\n",
    "####\n",
    "\n",
    "img1=x_train[0].reshape(128,64)\n",
    "plt.imshow(img1)\n",
    "print(y_train[5000])"
   ]
  },
  {
   "cell_type": "code",
   "execution_count": 49,
   "id": "1c8815a0",
   "metadata": {},
   "outputs": [],
   "source": [
    "####\n",
    "#\n",
    "# Model only takes in data that is a 1-D array. Because the images are in lists, I convert the lists into arrays using\n",
    "# numpy libary that will convert lists into arrays. The same is done with label lists\n",
    "#\n",
    "####\n",
    "\n",
    "x_train = np.array(x_train)\n",
    "y_train = np.array(y_train)\n",
    "\n",
    "x_test = np.array(x_test)\n",
    "y_test = np.array(y_test)\n",
    "\n",
    "x_val = np.array(x_val)\n",
    "y_val = np.array(y_val)"
   ]
  },
  {
   "cell_type": "code",
   "execution_count": 50,
   "id": "de2e3f57",
   "metadata": {},
   "outputs": [],
   "source": [
    "####\n",
    "#\n",
    "# Data normalization scales the values from 0-255 range into a 0-1 value range. This will reduce compuational load as numbers\n",
    "# can get really big.\n",
    "#\n",
    "####\n",
    "\n",
    "x_test = x_test/255.0\n",
    "x_train =x_train/255.0\n",
    "x_val =x_val/255.0"
   ]
  },
  {
   "cell_type": "code",
   "execution_count": 51,
   "id": "626b8aad",
   "metadata": {
    "scrolled": true
   },
   "outputs": [],
   "source": [
    "####\n",
    "#\n",
    "# XGBoost does not support casual numpy arrays. It supports a DMatrix input format. We specify the data and the labels.\n",
    "#\n",
    "####\n",
    "\n",
    "dtrain = xgb.DMatrix(data=x_train,label=y_train)\n",
    "dtest=xgb.DMatrix(data=x_test,label=y_test)\n",
    "dval=xgb.DMatrix(data=x_val,label=y_val)"
   ]
  },
  {
   "cell_type": "code",
   "execution_count": 7,
   "id": "33e6f358",
   "metadata": {},
   "outputs": [
    {
     "name": "stdout",
     "output_type": "stream",
     "text": [
      "XGBClassifier(base_score=None, booster=None, colsample_bylevel=None,\n",
      "              colsample_bynode=None, colsample_bytree=None,\n",
      "              enable_categorical=False, gamma=None, gpu_id=None,\n",
      "              importance_type=None, interaction_constraints=None,\n",
      "              learning_rate=None, max_delta_step=None, max_depth=None,\n",
      "              min_child_weight=None, missing=nan, monotone_constraints=None,\n",
      "              n_estimators=100, n_jobs=None, num_parallel_tree=None,\n",
      "              predictor=None, random_state=None, reg_alpha=None,\n",
      "              reg_lambda=None, scale_pos_weight=None, subsample=None,\n",
      "              tree_method=None, validate_parameters=None, verbosity=None)\n"
     ]
    }
   ],
   "source": [
    "####\n",
    "#\n",
    "# XGBoost supports a wide variety of hyperparameters that are tunable and are displayed bellow, but I will only use a few.\n",
    "#\n",
    "####\n",
    "\n",
    "print(XGBClassifier())"
   ]
  },
  {
   "cell_type": "code",
   "execution_count": 70,
   "id": "d8678d26",
   "metadata": {},
   "outputs": [],
   "source": [
    "####\n",
    "#\n",
    "# Specifying a range of parameters that will be tested in RandomizedSearchCV. All combinations will not be tested\n",
    "# but as the search space is big and finding every possible combination will take too long.\n",
    "# \n",
    "# learning_rate - affects the weights that define how conservative the model stays, lower the number means more conservative. \n",
    "# gamma - is regularization parameter and defines how conservative the model should stay.\n",
    "# max-depth - defines the depth of the tree, deeper tree means a more complex model.\n",
    "# n_iterations - the number of iterations or epochs.\n",
    "# min_child_weight - which regularizes the depth of trees by stating whats the minimum weight required to make a new node.\n",
    "#\n",
    "# More about hyperparameters: https://xgboost.readthedocs.io/en/stable/parameter.html\n",
    "#\n",
    "####\n",
    "\n",
    "params={\n",
    "    \"learning_rate\":[2,1,0.1,0.01],\n",
    "    \"gamma\":[0.1,0.3,0.5],\n",
    "    \"max_depth\":[2,3,5,7],\n",
    "    \"n_iterations\":[20,50,80],\n",
    "    \"min_child_weight\":[0,1,2,5]\n",
    "}"
   ]
  },
  {
   "cell_type": "code",
   "execution_count": 71,
   "id": "bb00c7ea",
   "metadata": {},
   "outputs": [],
   "source": [
    "####\n",
    "#\n",
    "# Defining the model and specifying the objective function logistic regression which is for binary classification,\n",
    "# output probability. Tree_method = hist, in the documentation it specifies \"Faster histogram optimized approximate greedy algorithm.\",\n",
    "#  \"It’s recommended to try hist and gpu_hist for higher performance with large dataset.\" \n",
    "#\n",
    "#  Documentation: https://xgboost.readthedocs.io/en/stable/parameter.html\n",
    "#\n",
    "####\n",
    "\n",
    "model=xgb.XGBClassifier(objective=\"binary:logistic\",tree_method='hist')"
   ]
  },
  {
   "cell_type": "code",
   "execution_count": 72,
   "id": "48fb8914",
   "metadata": {},
   "outputs": [
    {
     "name": "stderr",
     "output_type": "stream",
     "text": [
      "F:\\anacnoda_n\\envs\\tf_gpu\\lib\\site-packages\\xgboost\\sklearn.py:1224: UserWarning: The use of label encoder in XGBClassifier is deprecated and will be removed in a future release. To remove this warning, do the following: 1) Pass option use_label_encoder=False when constructing XGBClassifier object; and 2) Encode your labels (y) as integers starting with 0, i.e. 0, 1, 2, ..., [num_class - 1].\n",
      "  warnings.warn(label_encoder_deprecation_msg, UserWarning)\n"
     ]
    },
    {
     "name": "stdout",
     "output_type": "stream",
     "text": [
      "[09:38:10] WARNING: D:\\bld\\xgboost-split_1645118015404\\work\\src\\learner.cc:576: \n",
      "Parameters: { \"n_iterations\" } might not be used.\n",
      "\n",
      "  This could be a false alarm, with some parameters getting used by language bindings but\n",
      "  then being mistakenly passed down to XGBoost core, or some parameter actually being used\n",
      "  but getting flagged wrongly here. Please open an issue if you find any such cases.\n",
      "\n",
      "\n",
      "[09:38:12] WARNING: D:\\bld\\xgboost-split_1645118015404\\work\\src\\learner.cc:1115: Starting in XGBoost 1.3.0, the default evaluation metric used with the objective 'binary:logistic' was changed from 'error' to 'logloss'. Explicitly set eval_metric if you'd like to restore the old behavior.\n"
     ]
    },
    {
     "data": {
      "text/plain": [
       "RandomizedSearchCV(cv=3,\n",
       "                   estimator=XGBClassifier(base_score=None, booster=None,\n",
       "                                           colsample_bylevel=None,\n",
       "                                           colsample_bynode=None,\n",
       "                                           colsample_bytree=None,\n",
       "                                           enable_categorical=False, gamma=None,\n",
       "                                           gpu_id=None, importance_type=None,\n",
       "                                           interaction_constraints=None,\n",
       "                                           learning_rate=None,\n",
       "                                           max_delta_step=None, max_depth=None,\n",
       "                                           min_child_weight=None, missing=nan,\n",
       "                                           monotone_constraints...\n",
       "                                           num_parallel_tree=None,\n",
       "                                           predictor=None, random_state=None,\n",
       "                                           reg_alpha=None, reg_lambda=None,\n",
       "                                           scale_pos_weight=None,\n",
       "                                           subsample=None, tree_method='hist',\n",
       "                                           validate_parameters=None,\n",
       "                                           verbosity=None),\n",
       "                   n_iter=3, n_jobs=-1,\n",
       "                   param_distributions={'gamma': [0.1, 0.3, 0.5],\n",
       "                                        'learning_rate': [2, 1, 0.1, 0.01],\n",
       "                                        'max_depth': [2, 3, 5, 7],\n",
       "                                        'min_child_weight': [0, 1, 2, 5],\n",
       "                                        'n_iterations': [50]},\n",
       "                   scoring='roc_auc')"
      ]
     },
     "execution_count": 72,
     "metadata": {},
     "output_type": "execute_result"
    }
   ],
   "source": [
    "####\n",
    "#\n",
    "# Implementing RandomizedSearchCV. It will randomly assign combinations of the given parameters.\n",
    "# n_iter - \"Number of parameter settings that are sampled. n_iter trades off runtime vs quality of the solution.\"\n",
    "# n_jobs - \"Number of jobs to run in parallel.-1 means using all processors.\"\n",
    "# cv - cross validation \n",
    "#\n",
    "####\n",
    "\n",
    "random_search=RandomizedSearchCV(model,param_distributions=params,n_iter=3,scoring=\"roc_auc\",n_jobs=-1,cv=3)\n",
    "random_search.fit(x_test,y_test)"
   ]
  },
  {
   "cell_type": "code",
   "execution_count": 73,
   "id": "a53ab6d7",
   "metadata": {},
   "outputs": [
    {
     "data": {
      "text/plain": [
       "{'n_iterations': 50,\n",
       " 'min_child_weight': 2,\n",
       " 'max_depth': 5,\n",
       " 'learning_rate': 0.1,\n",
       " 'gamma': 0.3}"
      ]
     },
     "execution_count": 73,
     "metadata": {},
     "output_type": "execute_result"
    }
   ],
   "source": [
    "####\n",
    "#\n",
    "# Getting the results of RandomizedSearchCV\n",
    "#\n",
    "####\n",
    "\n",
    "random_search.best_params_"
   ]
  },
  {
   "cell_type": "code",
   "execution_count": 74,
   "id": "55cd2148",
   "metadata": {},
   "outputs": [],
   "source": [
    "####\n",
    "#\n",
    "# Defining the model and inserting parameters goten from RandomizedSearchCV.\n",
    "#\n",
    "####\n",
    "\n",
    "model=XGBClassifier(objective='binary:logistic',max_depth=5,learning_rate=0.1,gamma=0.3,n_estimators=50,min_child_weight=2,tree_method='hist',verbose=2)"
   ]
  },
  {
   "cell_type": "code",
   "execution_count": 75,
   "id": "33ddbe92",
   "metadata": {},
   "outputs": [
    {
     "name": "stdout",
     "output_type": "stream",
     "text": [
      "[09:41:47] WARNING: D:\\bld\\xgboost-split_1645118015404\\work\\src\\learner.cc:576: \n",
      "Parameters: { \"verbose\" } might not be used.\n",
      "\n",
      "  This could be a false alarm, with some parameters getting used by language bindings but\n",
      "  then being mistakenly passed down to XGBoost core, or some parameter actually being used\n",
      "  but getting flagged wrongly here. Please open an issue if you find any such cases.\n",
      "\n",
      "\n",
      "[0]\tvalidation_0-auc:0.79652\tvalidation_0-error:0.25381\n",
      "[1]\tvalidation_0-auc:0.83879\tvalidation_0-error:0.23166\n",
      "[2]\tvalidation_0-auc:0.84596\tvalidation_0-error:0.22694\n",
      "[3]\tvalidation_0-auc:0.86339\tvalidation_0-error:0.21750\n",
      "[4]\tvalidation_0-auc:0.87485\tvalidation_0-error:0.20733\n",
      "[5]\tvalidation_0-auc:0.88442\tvalidation_0-error:0.20407\n",
      "[6]\tvalidation_0-auc:0.89018\tvalidation_0-error:0.20044\n",
      "[7]\tvalidation_0-auc:0.89484\tvalidation_0-error:0.19499\n",
      "[8]\tvalidation_0-auc:0.89731\tvalidation_0-error:0.19245\n",
      "[9]\tvalidation_0-auc:0.90000\tvalidation_0-error:0.19208\n",
      "[10]\tvalidation_0-auc:0.90292\tvalidation_0-error:0.18591\n",
      "[11]\tvalidation_0-auc:0.90414\tvalidation_0-error:0.18555\n",
      "[12]\tvalidation_0-auc:0.90554\tvalidation_0-error:0.18664\n",
      "[13]\tvalidation_0-auc:0.90739\tvalidation_0-error:0.18518\n",
      "[14]\tvalidation_0-auc:0.91006\tvalidation_0-error:0.18155\n",
      "[15]\tvalidation_0-auc:0.91232\tvalidation_0-error:0.17647\n",
      "[16]\tvalidation_0-auc:0.91406\tvalidation_0-error:0.17284\n",
      "[17]\tvalidation_0-auc:0.91575\tvalidation_0-error:0.17284\n",
      "[18]\tvalidation_0-auc:0.91795\tvalidation_0-error:0.17175\n",
      "[19]\tvalidation_0-auc:0.92043\tvalidation_0-error:0.16267\n",
      "[20]\tvalidation_0-auc:0.92183\tvalidation_0-error:0.16013\n",
      "[21]\tvalidation_0-auc:0.92346\tvalidation_0-error:0.16231\n",
      "[22]\tvalidation_0-auc:0.92581\tvalidation_0-error:0.16122\n",
      "[23]\tvalidation_0-auc:0.92699\tvalidation_0-error:0.16122\n",
      "[24]\tvalidation_0-auc:0.92809\tvalidation_0-error:0.15614\n",
      "[25]\tvalidation_0-auc:0.92931\tvalidation_0-error:0.15396\n",
      "[26]\tvalidation_0-auc:0.93013\tvalidation_0-error:0.14996\n",
      "[27]\tvalidation_0-auc:0.93073\tvalidation_0-error:0.14887\n",
      "[28]\tvalidation_0-auc:0.93149\tvalidation_0-error:0.15105\n",
      "[29]\tvalidation_0-auc:0.93212\tvalidation_0-error:0.15178\n",
      "[30]\tvalidation_0-auc:0.93240\tvalidation_0-error:0.14670\n",
      "[31]\tvalidation_0-auc:0.93263\tvalidation_0-error:0.14452\n",
      "[32]\tvalidation_0-auc:0.93354\tvalidation_0-error:0.14452\n",
      "[33]\tvalidation_0-auc:0.93473\tvalidation_0-error:0.14234\n",
      "[34]\tvalidation_0-auc:0.93522\tvalidation_0-error:0.14306\n",
      "[35]\tvalidation_0-auc:0.93584\tvalidation_0-error:0.14089\n",
      "[36]\tvalidation_0-auc:0.93625\tvalidation_0-error:0.14343\n",
      "[37]\tvalidation_0-auc:0.93692\tvalidation_0-error:0.14197\n",
      "[38]\tvalidation_0-auc:0.93745\tvalidation_0-error:0.14197\n",
      "[39]\tvalidation_0-auc:0.93768\tvalidation_0-error:0.13943\n",
      "[40]\tvalidation_0-auc:0.93842\tvalidation_0-error:0.14016\n",
      "[41]\tvalidation_0-auc:0.93891\tvalidation_0-error:0.13798\n",
      "[42]\tvalidation_0-auc:0.93958\tvalidation_0-error:0.13871\n",
      "[43]\tvalidation_0-auc:0.94009\tvalidation_0-error:0.13980\n",
      "[44]\tvalidation_0-auc:0.94014\tvalidation_0-error:0.13653\n",
      "[45]\tvalidation_0-auc:0.94100\tvalidation_0-error:0.13290\n",
      "[46]\tvalidation_0-auc:0.94102\tvalidation_0-error:0.13253\n",
      "[47]\tvalidation_0-auc:0.94133\tvalidation_0-error:0.13362\n",
      "[48]\tvalidation_0-auc:0.94168\tvalidation_0-error:0.13544\n",
      "[49]\tvalidation_0-auc:0.94213\tvalidation_0-error:0.13580\n"
     ]
    }
   ],
   "source": [
    "####\n",
    "#\n",
    "# Training the model with training data\n",
    "# evaluation metrics will be given after each epoch. \n",
    "# AUC - Receiver Operating Characteristic Area under the Curve.\n",
    "#\n",
    "# ERROR - \"Binary classification error rate. It is calculated as #(wrong cases)/#(all cases).\n",
    "# For the predictions, the evaluation will regard the instances with prediction value larger than 0.5 \n",
    "# as positive instances, and the others as negative instances.\"\n",
    "# \n",
    "# eval_set passes data to the model to evaluate the performance during the traning\n",
    "#\n",
    "####\n",
    "\n",
    "clf = model.fit(x_train,y_train,\n",
    "          eval_metric=['auc','error'],\n",
    "          eval_set=[(x_val,y_val)]\n",
    "         )\n",
    "#2.17.33"
   ]
  },
  {
   "cell_type": "code",
   "execution_count": 79,
   "id": "1e40d192",
   "metadata": {},
   "outputs": [
    {
     "name": "stdout",
     "output_type": "stream",
     "text": [
      "0.8582306018854242\n"
     ]
    }
   ],
   "source": [
    "####\n",
    "#\n",
    "# predictions contain predictions of the given images.\n",
    "# accuracy show the percentage of how well the labels y_test match the classified predictions values.\n",
    "#\n",
    "####\n",
    "\n",
    "predictions = clf.predict(x_test)\n",
    "accuracy = accuracy_score(y_test,predictions)\n",
    "print(accuracy)"
   ]
  },
  {
   "cell_type": "code",
   "execution_count": 80,
   "id": "e93ea2dd",
   "metadata": {},
   "outputs": [
    {
     "name": "stdout",
     "output_type": "stream",
     "text": [
      "              precision    recall  f1-score   support\n",
      "\n",
      "           0       0.87      0.85      0.86      1379\n",
      "           1       0.85      0.87      0.86      1379\n",
      "\n",
      "    accuracy                           0.86      2758\n",
      "   macro avg       0.86      0.86      0.86      2758\n",
      "weighted avg       0.86      0.86      0.86      2758\n",
      "\n"
     ]
    }
   ],
   "source": [
    "####\n",
    "#\n",
    "# Getting various metrics measurements of how well the model was able to predict test labels\n",
    "# classes = {'parasitized':0,'uninfected':1}\n",
    "# f1-score - the harmonic mean between precision and recall\n",
    "# Precision = tp/tp+fp - proportion of positive results that were correctly classified\n",
    "#  recall/sensitivity - ability to correctly identify positive casses\n",
    "####\n",
    "\n",
    "labels = ['parasitized','uninfected']\n",
    "clf_rep = classification_report(y_test,predictions)\n",
    "print(clf_rep)"
   ]
  },
  {
   "cell_type": "code",
   "execution_count": 81,
   "id": "b2888925",
   "metadata": {},
   "outputs": [
    {
     "name": "stdout",
     "output_type": "stream",
     "text": [
      "[[1167  212]\n",
      " [ 179 1200]]\n"
     ]
    }
   ],
   "source": [
    "cm = confusion_matrix(y_test,predictions)\n",
    "print(cm)"
   ]
  },
  {
   "cell_type": "code",
   "execution_count": 82,
   "id": "57f43d46",
   "metadata": {},
   "outputs": [],
   "source": [
    "####\n",
    "#\n",
    "# These were tests made by trial and error using various methods. I show the hyperparameters with augmentation method\n",
    "# and accuracy. This is not some meaningfull things, but just to show that many variations of augmentation and hyperparameter\n",
    "# tuninng was done. \n",
    "#\n",
    "####\n",
    "\n",
    "\n",
    "##acuracy with {'max_depth': 7, 'learning_rate': 0.25, 'gamma': 0.1} and only histogram equalization is 0.8599 after trying few more times it's 0.729\n",
    "##accuracy with  {'max_depth': 5, 'learning_rate': 0.2, 'gamma': 0}  and knn  K= 9  is 0.8127\n",
    "##accuracy with  {'max_depth': 7, 'learning_rate': 0.25, 'gamma': 0.1}  and knn K= 9  is 0.8341\n",
    "##accuracy with  {'max_depth': 7, 'learning_rate': 0.25, 'gamma': 0.2}  and knn K= 9  is 0.8153\n",
    "##accuracy with {'max_depth': 6, 'learning_rate': 0.15, 'gamma': 0.3} and knn K =12 is 0.8229\n",
    "##accuracy with {'max_depth': 4, 'learning_rate': 0.25, 'gamma': 0} and histogram equalization is less than 60%\n",
    "##accuracy with {'max_depth': 6, 'learning_rate': 0.15, 'gamma': 0.1} and clahe is 0.5083\n",
    "##accuracy with {'max_depth': 7, 'learning_rate': 0.25, 'gamma': 0.1} and clahe is  0.5003\n",
    "#accuracy with {'max_depth': 6, 'learning_rate': 0.25, 'gamma': 0.2} and color segmentation 7-200 is 74%\n",
    "#accuracy with {'max_depth': 6, 'learning_rate': 0.25, 'gamma': 0.2} and color segmentation 1-200 is 72%\n",
    "#accuracy with {'max_depth': 6, 'learning_rate': 0.1, 'gamma': 0.2} and gray+median is 81 (Overfitting, training is 89)\n",
    "#accuracy with {max_depth=6,learning_rate=0.1,gamma=0.2, n_estimators=200,colsample_bytree=0.5,min_child_weight=4} and gray+median is  81\n",
    "#accuracy with {max_depth=6,learning_rate=0.1,gamma=0.2,colsample_bytree=0.5,min_child_weight=4,subsample = 0.5, n_estimators=100} and gray+median is 78\n",
    "#accuracy with{'n_iterations': 200,'max_depth': 6,'learning_rate': 0.3,'gamma': 0.2,'eta': 0.3}gray+median is 84\\\n",
    "#accuracy with {'n_iterations': 100,'max_depth': 20,'learning_rate': 0.2,'gamma': 0.1,'eta': 0.05} and knn+infected parts segmentation is  81\n",
    "#accuracy with (objective='binary:logistic',max_depth=6,learning_rate=0.2,gamma=0,eta=0.3,min_child_weight=10,n_estimators=200) knn+infected parts segmentation is\n",
    "#Acc (objective='binary:logistic',max_depth=20,learning_rate=0.2,gamma=0,eta=0.2,min_child_weight=5,n_estimators=100) +rotations is 86.8\n",
    "#Acc (objective='binary:logistic',max_depth=6,learning_rate=0.2,gamma=0.2,eta=0.2,min_child_weight=5,n_estimators=200) +rotation+ gauss is 86.7"
   ]
  },
  {
   "cell_type": "code",
   "execution_count": 83,
   "id": "4df2a1f6",
   "metadata": {},
   "outputs": [
    {
     "name": "stderr",
     "output_type": "stream",
     "text": [
      "F:\\anacnoda_n\\envs\\tf_gpu\\lib\\site-packages\\xgboost\\sklearn.py:1224: UserWarning: The use of label encoder in XGBClassifier is deprecated and will be removed in a future release. To remove this warning, do the following: 1) Pass option use_label_encoder=False when constructing XGBClassifier object; and 2) Encode your labels (y) as integers starting with 0, i.e. 0, 1, 2, ..., [num_class - 1].\n",
      "  warnings.warn(label_encoder_deprecation_msg, UserWarning)\n"
     ]
    },
    {
     "name": "stdout",
     "output_type": "stream",
     "text": [
      "[09:46:16] WARNING: D:\\bld\\xgboost-split_1645118015404\\work\\src\\learner.cc:576: \n",
      "Parameters: { \"verbose\" } might not be used.\n",
      "\n",
      "  This could be a false alarm, with some parameters getting used by language bindings but\n",
      "  then being mistakenly passed down to XGBoost core, or some parameter actually being used\n",
      "  but getting flagged wrongly here. Please open an issue if you find any such cases.\n",
      "\n",
      "\n",
      "[09:46:18] WARNING: D:\\bld\\xgboost-split_1645118015404\\work\\src\\learner.cc:1115: Starting in XGBoost 1.3.0, the default evaluation metric used with the objective 'binary:logistic' was changed from 'error' to 'logloss'. Explicitly set eval_metric if you'd like to restore the old behavior.\n"
     ]
    },
    {
     "name": "stderr",
     "output_type": "stream",
     "text": [
      "F:\\anacnoda_n\\envs\\tf_gpu\\lib\\site-packages\\xgboost\\sklearn.py:1224: UserWarning: The use of label encoder in XGBClassifier is deprecated and will be removed in a future release. To remove this warning, do the following: 1) Pass option use_label_encoder=False when constructing XGBClassifier object; and 2) Encode your labels (y) as integers starting with 0, i.e. 0, 1, 2, ..., [num_class - 1].\n",
      "  warnings.warn(label_encoder_deprecation_msg, UserWarning)\n"
     ]
    },
    {
     "name": "stdout",
     "output_type": "stream",
     "text": [
      "[09:46:39] WARNING: D:\\bld\\xgboost-split_1645118015404\\work\\src\\learner.cc:576: \n",
      "Parameters: { \"verbose\" } might not be used.\n",
      "\n",
      "  This could be a false alarm, with some parameters getting used by language bindings but\n",
      "  then being mistakenly passed down to XGBoost core, or some parameter actually being used\n",
      "  but getting flagged wrongly here. Please open an issue if you find any such cases.\n",
      "\n",
      "\n",
      "[09:46:41] WARNING: D:\\bld\\xgboost-split_1645118015404\\work\\src\\learner.cc:1115: Starting in XGBoost 1.3.0, the default evaluation metric used with the objective 'binary:logistic' was changed from 'error' to 'logloss'. Explicitly set eval_metric if you'd like to restore the old behavior.\n"
     ]
    },
    {
     "name": "stderr",
     "output_type": "stream",
     "text": [
      "F:\\anacnoda_n\\envs\\tf_gpu\\lib\\site-packages\\xgboost\\sklearn.py:1224: UserWarning: The use of label encoder in XGBClassifier is deprecated and will be removed in a future release. To remove this warning, do the following: 1) Pass option use_label_encoder=False when constructing XGBClassifier object; and 2) Encode your labels (y) as integers starting with 0, i.e. 0, 1, 2, ..., [num_class - 1].\n",
      "  warnings.warn(label_encoder_deprecation_msg, UserWarning)\n"
     ]
    },
    {
     "name": "stdout",
     "output_type": "stream",
     "text": [
      "[09:47:02] WARNING: D:\\bld\\xgboost-split_1645118015404\\work\\src\\learner.cc:576: \n",
      "Parameters: { \"verbose\" } might not be used.\n",
      "\n",
      "  This could be a false alarm, with some parameters getting used by language bindings but\n",
      "  then being mistakenly passed down to XGBoost core, or some parameter actually being used\n",
      "  but getting flagged wrongly here. Please open an issue if you find any such cases.\n",
      "\n",
      "\n",
      "[09:47:05] WARNING: D:\\bld\\xgboost-split_1645118015404\\work\\src\\learner.cc:1115: Starting in XGBoost 1.3.0, the default evaluation metric used with the objective 'binary:logistic' was changed from 'error' to 'logloss'. Explicitly set eval_metric if you'd like to restore the old behavior.\n"
     ]
    },
    {
     "name": "stderr",
     "output_type": "stream",
     "text": [
      "F:\\anacnoda_n\\envs\\tf_gpu\\lib\\site-packages\\xgboost\\sklearn.py:1224: UserWarning: The use of label encoder in XGBClassifier is deprecated and will be removed in a future release. To remove this warning, do the following: 1) Pass option use_label_encoder=False when constructing XGBClassifier object; and 2) Encode your labels (y) as integers starting with 0, i.e. 0, 1, 2, ..., [num_class - 1].\n",
      "  warnings.warn(label_encoder_deprecation_msg, UserWarning)\n"
     ]
    },
    {
     "name": "stdout",
     "output_type": "stream",
     "text": [
      "[09:47:27] WARNING: D:\\bld\\xgboost-split_1645118015404\\work\\src\\learner.cc:576: \n",
      "Parameters: { \"verbose\" } might not be used.\n",
      "\n",
      "  This could be a false alarm, with some parameters getting used by language bindings but\n",
      "  then being mistakenly passed down to XGBoost core, or some parameter actually being used\n",
      "  but getting flagged wrongly here. Please open an issue if you find any such cases.\n",
      "\n",
      "\n",
      "[09:47:29] WARNING: D:\\bld\\xgboost-split_1645118015404\\work\\src\\learner.cc:1115: Starting in XGBoost 1.3.0, the default evaluation metric used with the objective 'binary:logistic' was changed from 'error' to 'logloss'. Explicitly set eval_metric if you'd like to restore the old behavior.\n"
     ]
    },
    {
     "name": "stderr",
     "output_type": "stream",
     "text": [
      "F:\\anacnoda_n\\envs\\tf_gpu\\lib\\site-packages\\xgboost\\sklearn.py:1224: UserWarning: The use of label encoder in XGBClassifier is deprecated and will be removed in a future release. To remove this warning, do the following: 1) Pass option use_label_encoder=False when constructing XGBClassifier object; and 2) Encode your labels (y) as integers starting with 0, i.e. 0, 1, 2, ..., [num_class - 1].\n",
      "  warnings.warn(label_encoder_deprecation_msg, UserWarning)\n"
     ]
    },
    {
     "name": "stdout",
     "output_type": "stream",
     "text": [
      "[09:47:51] WARNING: D:\\bld\\xgboost-split_1645118015404\\work\\src\\learner.cc:576: \n",
      "Parameters: { \"verbose\" } might not be used.\n",
      "\n",
      "  This could be a false alarm, with some parameters getting used by language bindings but\n",
      "  then being mistakenly passed down to XGBoost core, or some parameter actually being used\n",
      "  but getting flagged wrongly here. Please open an issue if you find any such cases.\n",
      "\n",
      "\n",
      "[09:47:53] WARNING: D:\\bld\\xgboost-split_1645118015404\\work\\src\\learner.cc:1115: Starting in XGBoost 1.3.0, the default evaluation metric used with the objective 'binary:logistic' was changed from 'error' to 'logloss'. Explicitly set eval_metric if you'd like to restore the old behavior.\n",
      "5 fold cross validation score:  0.8274165548804545\n"
     ]
    }
   ],
   "source": [
    "####\n",
    "#\n",
    "# Applying K-fold cross validation to get an average accuracy of predictions using unseen data.\n",
    "# K-fold cross validation will give a more robust result. Ussualy 3,5,10 folds are most common. \n",
    "# Because my testing set is not large I will use 3 folds. The images will be shuffled \n",
    "# specifying a number in random_state will give consistent results. For why this happens  \n",
    "#\n",
    "# Code is taken from https://scikit-learn.org/stable/modules/cross_validation.html \n",
    "#\n",
    "###\n",
    "\n",
    "kfold = KFold(n_splits=5, random_state=7,shuffle=True)\n",
    "accuracies = cross_val_score(clf,x_test,y_test, cv =kfold)\n",
    "\n",
    "print(\"5 fold cross validation score: \",accuracies.mean())"
   ]
  },
  {
   "cell_type": "code",
   "execution_count": 84,
   "id": "a356d34e",
   "metadata": {},
   "outputs": [
    {
     "name": "stderr",
     "output_type": "stream",
     "text": [
      "F:\\anacnoda_n\\envs\\tf_gpu\\lib\\site-packages\\sklearn\\utils\\deprecation.py:87: FutureWarning: Function plot_roc_curve is deprecated; Function :func:`plot_roc_curve` is deprecated in 1.0 and will be removed in 1.2. Use one of the class methods: :meth:`sklearn.metric.RocCurveDisplay.from_predictions` or :meth:`sklearn.metric.RocCurveDisplay.from_estimator`.\n",
      "  warnings.warn(msg, category=FutureWarning)\n"
     ]
    },
    {
     "data": {
      "text/plain": [
       "[<matplotlib.lines.Line2D at 0x1e2c81efca0>]"
      ]
     },
     "execution_count": 84,
     "metadata": {},
     "output_type": "execute_result"
    },
    {
     "data": {
      "image/png": "[encoded data removed]",
      "text/plain": [
       "<Figure size 432x288 with 1 Axes>"
      ]
     },
     "metadata": {
      "needs_background": "light"
     },
     "output_type": "display_data"
    }
   ],
   "source": [
    "####\n",
    "#\n",
    "# AUC-ROC curve.\n",
    "#\n",
    "#### \n",
    "plot_roc_curve(clf, x_test, y_test)\n",
    "plt.plot([0,1])"
   ]
  },
  {
   "cell_type": "code",
   "execution_count": 85,
   "id": "ad12a4ef",
   "metadata": {},
   "outputs": [],
   "source": [
    "####\n",
    "#\n",
    "# Save the model to reuse later without the need of retraining\n",
    "#\n",
    "####\n",
    "\n",
    "model.save_model(\"XGBoost.txt\")"
   ]
  },
  {
   "cell_type": "code",
   "execution_count": 37,
   "id": "a76bb6b5",
   "metadata": {
    "scrolled": true
   },
   "outputs": [],
   "source": [
    "####\n",
    "#\n",
    "# Load a saved model to reuse\n",
    "#\n",
    "####\n",
    "\n",
    "model2 = XGBClassifier(objective='binary:logistic',max_depth=7,learning_rate=0.3,gamma=0.02,min_child_weight=5,n_estimators=50,tree_method='hist')\n",
    "model2.load_model(\"XGBoost.txt\")"
   ]
  },
  {
   "cell_type": "code",
   "execution_count": null,
   "id": "0770781c",
   "metadata": {},
   "outputs": [],
   "source": [
    "####\n",
    "#\n",
    "# Testing that the model is loaded\n",
    "#\n",
    "####\n",
    "predictions2 = model2.predict(x_test)\n",
    "accuracy2 = accuracy_score(y_test,predictions2)\n",
    "print(accuracy2)"
   ]
  },
  {
   "cell_type": "code",
   "execution_count": null,
   "id": "5ad7d678",
   "metadata": {},
   "outputs": [],
   "source": []
  }
 ],
 "metadata": {
  "kernelspec": {
   "display_name": "Python 3 (ipykernel)",
   "language": "python",
   "name": "python3"
  },
  "language_info": {
   "codemirror_mode": {
    "name": "ipython",
    "version": 3
   },
   "file_extension": ".py",
   "mimetype": "text/x-python",
   "name": "python",
   "nbconvert_exporter": "python",
   "pygments_lexer": "ipython3",
   "version": "3.9.12"
  }
 },
 "nbformat": 4,
 "nbformat_minor": 5
}
