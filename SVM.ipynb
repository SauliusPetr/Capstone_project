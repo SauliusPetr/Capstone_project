{
 "cells": [
  {
   "cell_type": "code",
   "execution_count": 1,
   "id": "8522789f",
   "metadata": {},
   "outputs": [],
   "source": [
    "####\n",
    "#\n",
    "# Majority of the code is sampled from https://scikit-learn.org/stable/modules/cross_validation.html \n",
    "# it gives a lot of examples and so everything was taken from here. Code taken from other sources will be acknowledged next\n",
    "# to the code snipets. The part where I was doing code on my own was image augmentation, choosing what hyper-parameters\n",
    "# value to pick.\n",
    "#\n",
    "###"
   ]
  },
  {
   "cell_type": "code",
   "execution_count": 4,
   "id": "a0561942",
   "metadata": {},
   "outputs": [],
   "source": [
    "import numpy as np\n",
    "import cv2 as cv\n",
    "import matplotlib.pyplot as plt\n",
    "from sklearn.model_selection import train_test_split, KFold, train_test_split, RandomizedSearchCV, GridSearchCV, cross_val_score\n",
    "from sklearn.metrics import accuracy_score, classification_report, plot_roc_curve, confusion_matrix\n",
    "from sklearn import datasets, svm, metrics\n",
    "import pickle\n",
    "from joblib import dump, load\n",
    "from sklearn.multiclass import OneVsRestClassifier\n",
    "from sklearn.ensemble import BaggingClassifier\n",
    "from skimage.feature import hog\n",
    "import os"
   ]
  },
  {
   "cell_type": "code",
   "execution_count": 2,
   "id": "a9fbbf16",
   "metadata": {},
   "outputs": [],
   "source": [
    "####\n",
    "#\n",
    "# Specifying the paths of the datasets and the labels.\n",
    "#\n",
    "####\n",
    "\n",
    "path_train = os.listdir(\"./nih-malaria/cell_images/train/\")\n",
    "path_val = os.listdir(\"./nih-malaria/cell_images/val/\")\n",
    "path_test = os.listdir(\"./nih-malaria/cell_images/test/\")\n",
    "path_full = os.listdir(\"./nih-malaria/cell_images/\")\n",
    "classes = {'parasitized':0,'uninfected':1}"
   ]
  },
  {
   "cell_type": "code",
   "execution_count": null,
   "id": "9097065c",
   "metadata": {},
   "outputs": [],
   "source": [
    "####\n",
    "#\n",
    "# Loading all images from directory\n",
    "# Images are converted applied with a HOG feature descriptor and flattened into a 1-D array.\n",
    "#\n",
    "####\n",
    "\n",
    "X=[]\n",
    "Y=[]\n",
    "\n",
    "x_train=[]\n",
    "x_test = []\n",
    "y_train = []\n",
    "y_test = []\n",
    "\n",
    "for cls in classes:\n",
    "    path_full =\"./nih-malaria/\"+cls\n",
    "    for file in os.listdir(path_full):\n",
    "        img = cv.imread(path_full+'/'+file)\n",
    "        img = cv.resize(img, (64,128), interpolation = cv.INTER_AREA)\n",
    "        fd, hog_image = hog(img, orientations=9, pixels_per_cell=(8,8),\n",
    "                            cells_per_block=(2, 2), visualize=True, multichannel=True)\n",
    "\n",
    "        imgToArr = hog_image.flatten();\n",
    "        X.append(imgToArr)\n",
    "        Y.append(classes[cls])\n",
    "\n",
    "        \n",
    "print(\"X: \",len(X))"
   ]
  },
  {
   "cell_type": "code",
   "execution_count": 46,
   "id": "c492ffa6",
   "metadata": {},
   "outputs": [
    {
     "name": "stdout",
     "output_type": "stream",
     "text": [
      "Test total data: 8268 Train total data: 19290\n"
     ]
    }
   ],
   "source": [
    "####\n",
    "#\n",
    "# Spliting the total data set for training and testing. Training will recieve 55% of total images and testing will get 30%.\n",
    "#\n",
    "####\n",
    "\n",
    "x_train, x_test, y_train, y_test = train_test_split(X, Y, random_state=0, train_size = .70, test_size=.30 )\n",
    "print('Test total data:',len(x_test), 'Train total data:',len(x_train))"
   ]
  },
  {
   "cell_type": "code",
   "execution_count": 47,
   "id": "16596b80",
   "metadata": {},
   "outputs": [
    {
     "name": "stdout",
     "output_type": "stream",
     "text": [
      "Label:  0\n"
     ]
    },
    {
     "data": {
      "image/png": "[encoded data removed]",
      "text/plain": [
       "<Figure size 432x288 with 1 Axes>"
      ]
     },
     "metadata": {
      "needs_background": "light"
     },
     "output_type": "display_data"
    }
   ],
   "source": [
    "####\n",
    "#\n",
    "# Checking if the images are loaded and augmented by reshaping the image.\n",
    "#\n",
    "####\n",
    "\n",
    "img1=x_train[7034].reshape(128,64)\n",
    "plt.imshow(img1,cmap=\"gray\")\n",
    "print(\"Label: \",y_train[2000])\n"
   ]
  },
  {
   "cell_type": "code",
   "execution_count": 48,
   "id": "357fc824",
   "metadata": {},
   "outputs": [],
   "source": [
    "####\n",
    "#\n",
    "# Model only takes in data that is a 1-D array. Because the images are in lists, I convert the lists into arrays using\n",
    "# numpy libary that will convert lists into arrays. The same is done with label lists\n",
    "#\n",
    "####\n",
    "\n",
    "x_train = np.array(x_train,dtype=np.float32)\n",
    "y_train = np.array(y_train,dtype=np.float32)\n",
    "\n",
    "x_test = np.array(x_test,dtype=np.float32)\n",
    "y_test = np.array(y_test,dtype=np.float32)"
   ]
  },
  {
   "cell_type": "code",
   "execution_count": 49,
   "id": "7db87deb",
   "metadata": {},
   "outputs": [],
   "source": [
    "####\n",
    "#\n",
    "# Data normalization scales the values from 0-255 range into a 0-1 value range. This will reduce compuational load as numbers\n",
    "# can get really big.\n",
    "#\n",
    "####\n",
    "\n",
    "x_test = x_test/255.0\n",
    "x_train =x_train/255.0"
   ]
  },
  {
   "cell_type": "code",
   "execution_count": 49,
   "id": "d8084cf5",
   "metadata": {},
   "outputs": [
    {
     "data": {
      "text/plain": [
       "{'base_estimator__C': 1.0,\n",
       " 'base_estimator__class_weight': 'balanced',\n",
       " 'base_estimator__dual': True,\n",
       " 'base_estimator__fit_intercept': True,\n",
       " 'base_estimator__intercept_scaling': 1,\n",
       " 'base_estimator__loss': 'squared_hinge',\n",
       " 'base_estimator__max_iter': 1000,\n",
       " 'base_estimator__multi_class': 'ovr',\n",
       " 'base_estimator__penalty': 'l2',\n",
       " 'base_estimator__random_state': None,\n",
       " 'base_estimator__tol': 0.0001,\n",
       " 'base_estimator__verbose': 0,\n",
       " 'base_estimator': LinearSVC(class_weight='balanced'),\n",
       " 'bootstrap': True,\n",
       " 'bootstrap_features': False,\n",
       " 'max_features': 1.0,\n",
       " 'max_samples': 1.0,\n",
       " 'n_estimators': 10,\n",
       " 'n_jobs': None,\n",
       " 'oob_score': False,\n",
       " 'random_state': None,\n",
       " 'verbose': 0,\n",
       " 'warm_start': False}"
      ]
     },
     "execution_count": 49,
     "metadata": {},
     "output_type": "execute_result"
    }
   ],
   "source": [
    "####\n",
    "#\n",
    "# The parameters of svm.SVC(kernel='linear') that can be configured\n",
    "#\n",
    "####\n",
    "\n",
    "BaggingClassifier(svm.LinearSVC(class_weight='balanced')).get_params(deep=True)"
   ]
  },
  {
   "cell_type": "code",
   "execution_count": null,
   "id": "4555f5b2",
   "metadata": {},
   "outputs": [],
   "source": [
    "####\n",
    "#\n",
    "# Grid search will fit a dataset with specified parameters on the estimator \n",
    "#\n",
    "####\n",
    "\n",
    "param_grid = {'n_estimators':[10,20,15]\n",
    "             }\n",
    "grid_search=GridSearchCV(BaggingClassifier(svm.LinearSVC(dual=False)),param_grid,verbose=3,n_jobs=-1)\n",
    "grid_search.fit(x_test,y_test) "
   ]
  },
  {
   "cell_type": "code",
   "execution_count": 47,
   "id": "ad3d5684",
   "metadata": {},
   "outputs": [
    {
     "data": {
      "text/plain": [
       "{'C': 0.001, 'kernel': 'linear'}"
      ]
     },
     "execution_count": 47,
     "metadata": {},
     "output_type": "execute_result"
    }
   ],
   "source": [
    "####\n",
    "#\n",
    "# Getting the results of GridSearchCV\n",
    "#\n",
    "####\n",
    "\n",
    "grid_search.best_params_"
   ]
  },
  {
   "cell_type": "code",
   "execution_count": 50,
   "id": "2c4b9406",
   "metadata": {},
   "outputs": [
    {
     "data": {
      "text/plain": [
       "OneVsRestClassifier(estimator=BaggingClassifier(base_estimator=LinearSVC(C=3,\n",
       "                                                                         dual=False),\n",
       "                                                random_state=0),\n",
       "                    n_jobs=-1)"
      ]
     },
     "execution_count": 50,
     "metadata": {},
     "output_type": "execute_result"
    }
   ],
   "source": [
    "####\n",
    "#\n",
    "# Defining Bagging ensemble method with estimator and inserting parameters from GrridizedSearchCV.\n",
    "#\n",
    "####\n",
    "\n",
    "clf = OneVsRestClassifier(BaggingClassifier(svm.LinearSVC(dual=False,C=3),n_estimators=10,random_state=0),n_jobs=-1)\n",
    "clf.fit(x_train,y_train)"
   ]
  },
  {
   "cell_type": "code",
   "execution_count": 51,
   "id": "01e80b3d",
   "metadata": {},
   "outputs": [
    {
     "name": "stdout",
     "output_type": "stream",
     "text": [
      "0.835752298016449\n"
     ]
    }
   ],
   "source": [
    "####\n",
    "#\n",
    "# predictions contain predictions of the given images.\n",
    "# accuracy show the percentage of how well the labels y_test match the classified predictions values.\n",
    "#\n",
    "####\n",
    "\n",
    "predictions = clf.predict(x_test)\n",
    "accuracy = accuracy_score(y_test,predictions)\n",
    "print(accuracy)"
   ]
  },
  {
   "cell_type": "code",
   "execution_count": 53,
   "id": "c01c5af4",
   "metadata": {},
   "outputs": [
    {
     "name": "stdout",
     "output_type": "stream",
     "text": [
      "              precision    recall  f1-score   support\n",
      "\n",
      "         0.0       0.86      0.80      0.83      4094\n",
      "         1.0       0.81      0.87      0.84      4174\n",
      "\n",
      "    accuracy                           0.84      8268\n",
      "   macro avg       0.84      0.84      0.84      8268\n",
      "weighted avg       0.84      0.84      0.84      8268\n",
      "\n"
     ]
    }
   ],
   "source": [
    "####\n",
    "#\n",
    "# Getting various metrics measurements of how well the model was able to predict test labels\n",
    "# classes = {'parasitized':0,'uninfected':1}\n",
    "#\n",
    "####\n",
    "\n",
    "labels = ['parasitized','uninfected']\n",
    "clf_rep = classification_report(y_test,predictions)\n",
    "print(clf_rep)"
   ]
  },
  {
   "cell_type": "code",
   "execution_count": 54,
   "id": "f69c1715",
   "metadata": {},
   "outputs": [
    {
     "name": "stdout",
     "output_type": "stream",
     "text": [
      "[[3265  529]\n",
      " [ 829 3645]]\n"
     ]
    }
   ],
   "source": [
    "cm = confusion_matrix(predictions,y_test)\n",
    "print(cm)"
   ]
  },
  {
   "cell_type": "code",
   "execution_count": 55,
   "id": "68a9e2d0",
   "metadata": {},
   "outputs": [
    {
     "name": "stdout",
     "output_type": "stream",
     "text": [
      "5 fold cross validation score:  0.8191831787282073\n"
     ]
    }
   ],
   "source": [
    "####\n",
    "#\n",
    "# Applying K-fold cross validation to get an average accuracy of predictions using unseen data.\n",
    "# K-fold cross validation will give a more robust result. Ussualy 3,5,10 folds are most common. \n",
    "# Because my testing set is not large I will use 3 folds. The images will be shuffled \n",
    "# specifying a number in random_state will give consistent results. For why this happens  \n",
    "#\n",
    "# Code is taken from https://scikit-learn.org/stable/modules/cross_validation.html \n",
    "#\n",
    "###\n",
    "\n",
    "kfold = KFold(n_splits=5, random_state=0,shuffle=True)\n",
    "accuracies = cross_val_score(clf,x_test,y_test, cv =kfold)\n",
    "\n",
    "print(\"5 fold cross validation score: \",accuracies.mean())"
   ]
  },
  {
   "cell_type": "code",
   "execution_count": 56,
   "id": "165370c1",
   "metadata": {},
   "outputs": [
    {
     "name": "stderr",
     "output_type": "stream",
     "text": [
      "F:\\anacnoda_n\\envs\\tf_gpu\\lib\\site-packages\\sklearn\\utils\\deprecation.py:87: FutureWarning: Function plot_roc_curve is deprecated; Function :func:`plot_roc_curve` is deprecated in 1.0 and will be removed in 1.2. Use one of the class methods: :meth:`sklearn.metric.RocCurveDisplay.from_predictions` or :meth:`sklearn.metric.RocCurveDisplay.from_estimator`.\n",
      "  warnings.warn(msg, category=FutureWarning)\n"
     ]
    },
    {
     "data": {
      "text/plain": [
       "[<matplotlib.lines.Line2D at 0x2c1dd4bf3d0>]"
      ]
     },
     "execution_count": 56,
     "metadata": {},
     "output_type": "execute_result"
    },
    {
     "data": {
      "image/png": "[encoded data removed]",
      "text/plain": [
       "<Figure size 432x288 with 1 Axes>"
      ]
     },
     "metadata": {
      "needs_background": "light"
     },
     "output_type": "display_data"
    }
   ],
   "source": [
    "####\n",
    "#\n",
    "# Precision = tp/tp+fp - proportion of positive results that were correctly classified\n",
    "# TPR is the same thing as sensitiviity, tells proportion of a label that were coorectlyclassified\n",
    "# FPR  is 1-Specificity proportion of incrorectly classified \n",
    "\n",
    "plot_roc_curve(clf, x_test, y_test)\n",
    "plt.plot([0,1])"
   ]
  },
  {
   "cell_type": "code",
   "execution_count": 62,
   "id": "9f18020f",
   "metadata": {},
   "outputs": [
    {
     "name": "stdout",
     "output_type": "stream",
     "text": [
      "Predicted value:  1.0\n",
      "Actual value:  0.0\n"
     ]
    },
    {
     "data": {
      "text/plain": [
       "<matplotlib.image.AxesImage at 0x2c1e35a5550>"
      ]
     },
     "execution_count": 62,
     "metadata": {},
     "output_type": "execute_result"
    },
    {
     "data": {
      "image/png": "[encoded data removed]",
      "text/plain": [
       "<Figure size 432x288 with 1 Axes>"
      ]
     },
     "metadata": {
      "needs_background": "light"
     },
     "output_type": "display_data"
    }
   ],
   "source": [
    "#classes = {'parasitized':0,'uninfected':1}\n",
    "p=2012\n",
    "print(\"Predicted value: \",predictions[p])\n",
    "print(\"Actual value: \",y_test[p])\n",
    "\n",
    "img1=(x_test[p].reshape(128,64))\n",
    "plt.imshow(img1,cmap=\"gray\")"
   ]
  },
  {
   "cell_type": "code",
   "execution_count": 24,
   "id": "4f694ee8",
   "metadata": {},
   "outputs": [
    {
     "data": {
      "text/plain": [
       "['./saved_models/SVM_trained_model_libsvm1.joblib']"
      ]
     },
     "execution_count": 24,
     "metadata": {},
     "output_type": "execute_result"
    }
   ],
   "source": [
    "####\n",
    "#\n",
    "# Save the model to reuse later without the need of retraining\n",
    "#\n",
    "####\n",
    "\n",
    "dump(clf, './saved_models/SVM_trained_model_libsvm1.joblib') "
   ]
  },
  {
   "cell_type": "code",
   "execution_count": null,
   "id": "971439fc",
   "metadata": {},
   "outputs": [],
   "source": [
    "####\n",
    "#\n",
    "# Load a saved model to reuse\n",
    "#\n",
    "####\n",
    "\n",
    "clf = load('./saved_models/SVM_trained_model.joblib') "
   ]
  }
 ],
 "metadata": {
  "kernelspec": {
   "display_name": "Python 3 (ipykernel)",
   "language": "python",
   "name": "python3"
  },
  "language_info": {
   "codemirror_mode": {
    "name": "ipython",
    "version": 3
   },
   "file_extension": ".py",
   "mimetype": "text/x-python",
   "name": "python",
   "nbconvert_exporter": "python",
   "pygments_lexer": "ipython3",
   "version": "3.9.12"
  }
 },
 "nbformat": 4,
 "nbformat_minor": 5
}
